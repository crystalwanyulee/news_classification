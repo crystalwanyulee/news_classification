{
 "cells": [
  {
   "cell_type": "code",
   "execution_count": 208,
   "metadata": {},
   "outputs": [],
   "source": [
    "from GoogleNews import GoogleNews\n",
    "from newspaper import Article\n",
    "import pandas as pd\n",
    "import numpy as np\n",
    "import time\n",
    "\n",
    "from nltk.corpus import stopwords\n",
    "from nltk.stem import PorterStemmer\n",
    "from sklearn.feature_extraction.text import TfidfVectorizer\n",
    "from sklearn.pipeline import Pipeline\n",
    "from sklearn.metrics import classification_report, confusion_matrix\n",
    "from sklearn.model_selection import train_test_split\n",
    "from sklearn.feature_selection import SelectKBest, chi2\n",
    "from sqlite3 import Error\n",
    "from sklearn.ensemble import RandomForestClassifier\n",
    "import sqlite3\n",
    "import pickle\n",
    "import re\n",
    "import math\n",
    "\n",
    "import warnings\n",
    "warnings.filterwarnings(\"ignore\")"
   ]
  },
  {
   "cell_type": "markdown",
   "metadata": {},
   "source": [
    "## Description"
   ]
  },
  {
   "cell_type": "markdown",
   "metadata": {},
   "source": [
    "To find keywords to identify relevant articles, I try to use word tokens to build a classification model and predict each article's topic."
   ]
  },
  {
   "cell_type": "markdown",
   "metadata": {},
   "source": [
    "## 1. Scraping Google News"
   ]
  },
  {
   "cell_type": "markdown",
   "metadata": {},
   "source": [
    "Here I use categories that Fidelity provided as keywords to search on GoogleNews, and download 60 news through GoogleNews API and the newspaper package.\n",
    "\n",
    "More information please see this link:\n",
    "https://medium.com/analytics-vidhya/googlenews-api-live-news-from-google-news-using-python-b50272f0a8f0"
   ]
  },
  {
   "cell_type": "code",
   "execution_count": 204,
   "metadata": {},
   "outputs": [],
   "source": [
    "topics = ['compliance', 'cybersecurity', 'surveillance', 'market structure', \n",
    "'Regulation', 'short sales', 'funds', 'Securities', 'investment']"
   ]
  },
  {
   "cell_type": "code",
   "execution_count": 229,
   "metadata": {},
   "outputs": [
    {
     "data": {
      "text/html": [
       "<div>\n",
       "<style scoped>\n",
       "    .dataframe tbody tr th:only-of-type {\n",
       "        vertical-align: middle;\n",
       "    }\n",
       "\n",
       "    .dataframe tbody tr th {\n",
       "        vertical-align: top;\n",
       "    }\n",
       "\n",
       "    .dataframe thead th {\n",
       "        text-align: right;\n",
       "    }\n",
       "</style>\n",
       "<table border=\"1\" class=\"dataframe\">\n",
       "  <thead>\n",
       "    <tr style=\"text-align: right;\">\n",
       "      <th></th>\n",
       "      <th>title</th>\n",
       "      <th>media</th>\n",
       "      <th>date</th>\n",
       "      <th>desc</th>\n",
       "      <th>link</th>\n",
       "      <th>img</th>\n",
       "    </tr>\n",
       "  </thead>\n",
       "  <tbody>\n",
       "    <tr>\n",
       "      <th>0</th>\n",
       "      <td>Former Goldman Sachs exec tabbed as USOPC comp...</td>\n",
       "      <td>ESPN</td>\n",
       "      <td>Jul 21, 2020</td>\n",
       "      <td>-- The U.S. Olympic and Paralympic Committee h...</td>\n",
       "      <td>https://www.espn.com/olympics/story/_/id/29509...</td>\n",
       "      <td>data:image/gif;base64,R0lGODlhAQABAIAAAP//////...</td>\n",
       "    </tr>\n",
       "    <tr>\n",
       "      <th>1</th>\n",
       "      <td>OPEC+ data reveals extent of oil quota non-com...</td>\n",
       "      <td></td>\n",
       "      <td>Aug 20, 2020</td>\n",
       "      <td>Full compliance with the deal, including the c...</td>\n",
       "      <td>https://www.spglobal.com/platts/en/market-insi...</td>\n",
       "      <td>data:image/gif;base64,R0lGODlhAQABAIAAAP//////...</td>\n",
       "    </tr>\n",
       "    <tr>\n",
       "      <th>2</th>\n",
       "      <td>Nevada OSHA issues 11 workplace citations, 9 f...</td>\n",
       "      <td>FOX5 Las Vegas</td>\n",
       "      <td>Aug 17, 2020</td>\n",
       "      <td>CITY COMPLIANCE. Cities with compliance rates ...</td>\n",
       "      <td>https://www.fox5vegas.com/coronavirus/nevada-o...</td>\n",
       "      <td>data:image/gif;base64,R0lGODlhAQABAIAAAP//////...</td>\n",
       "    </tr>\n",
       "    <tr>\n",
       "      <th>3</th>\n",
       "      <td>Australia's Westpac reveals findings from comp...</td>\n",
       "      <td>Reuters</td>\n",
       "      <td>Jun 3, 2020</td>\n",
       "      <td>Unclear accountabilities as well as a lack of ...</td>\n",
       "      <td>https://www.reuters.com/article/us-westpac-reg...</td>\n",
       "      <td>data:image/gif;base64,R0lGODlhAQABAIAAAP//////...</td>\n",
       "    </tr>\n",
       "    <tr>\n",
       "      <th>4</th>\n",
       "      <td>Hong Kong financial firms step up compliance h...</td>\n",
       "      <td>Reuters</td>\n",
       "      <td>1 month ago</td>\n",
       "      <td>HONG KONG (Reuters) - Financial firms in Hong ...</td>\n",
       "      <td>https://www.reuters.com/article/hongkong-secur...</td>\n",
       "      <td>data:image/gif;base64,R0lGODlhAQABAIAAAP//////...</td>\n",
       "    </tr>\n",
       "  </tbody>\n",
       "</table>\n",
       "</div>"
      ],
      "text/plain": [
       "                                               title           media  \\\n",
       "0  Former Goldman Sachs exec tabbed as USOPC comp...            ESPN   \n",
       "1  OPEC+ data reveals extent of oil quota non-com...                   \n",
       "2  Nevada OSHA issues 11 workplace citations, 9 f...  FOX5 Las Vegas   \n",
       "3  Australia's Westpac reveals findings from comp...         Reuters   \n",
       "4  Hong Kong financial firms step up compliance h...         Reuters   \n",
       "\n",
       "           date                                               desc  \\\n",
       "0  Jul 21, 2020  -- The U.S. Olympic and Paralympic Committee h...   \n",
       "1  Aug 20, 2020  Full compliance with the deal, including the c...   \n",
       "2  Aug 17, 2020  CITY COMPLIANCE. Cities with compliance rates ...   \n",
       "3   Jun 3, 2020  Unclear accountabilities as well as a lack of ...   \n",
       "4   1 month ago  HONG KONG (Reuters) - Financial firms in Hong ...   \n",
       "\n",
       "                                                link  \\\n",
       "0  https://www.espn.com/olympics/story/_/id/29509...   \n",
       "1  https://www.spglobal.com/platts/en/market-insi...   \n",
       "2  https://www.fox5vegas.com/coronavirus/nevada-o...   \n",
       "3  https://www.reuters.com/article/us-westpac-reg...   \n",
       "4  https://www.reuters.com/article/hongkong-secur...   \n",
       "\n",
       "                                                 img  \n",
       "0  data:image/gif;base64,R0lGODlhAQABAIAAAP//////...  \n",
       "1  data:image/gif;base64,R0lGODlhAQABAIAAAP//////...  \n",
       "2  data:image/gif;base64,R0lGODlhAQABAIAAAP//////...  \n",
       "3  data:image/gif;base64,R0lGODlhAQABAIAAAP//////...  \n",
       "4  data:image/gif;base64,R0lGODlhAQABAIAAAP//////...  "
      ]
     },
     "execution_count": 229,
     "metadata": {},
     "output_type": "execute_result"
    }
   ],
   "source": [
    "googlenews = GoogleNews(start='01/01/2020',end='10/15/2020')\n",
    "\n",
    "# Everytime we search for a new keyword, \n",
    "# it will save the first two pages result in googlenews.result()\n",
    "for keyword in topics:\n",
    "    googlenews.search(keyword)\n",
    "    \n",
    "    # Require it to return page 3,4,5,6 as well (each page has 10 news)\n",
    "    for i in range(4):\n",
    "        googlenews.getpage(i+2) \n",
    "    \n",
    "    result = googlenews.result()\n",
    "    \n",
    "    \n",
    "results_df = pd.DataFrame(result)\n",
    "# Remove duplicated news\n",
    "results_df = results_df.loc[~results_df.duplicated()]\n",
    "results_df.head()"
   ]
  },
  {
   "cell_type": "code",
   "execution_count": 239,
   "metadata": {},
   "outputs": [
    {
     "data": {
      "text/html": [
       "<div>\n",
       "<style scoped>\n",
       "    .dataframe tbody tr th:only-of-type {\n",
       "        vertical-align: middle;\n",
       "    }\n",
       "\n",
       "    .dataframe tbody tr th {\n",
       "        vertical-align: top;\n",
       "    }\n",
       "\n",
       "    .dataframe thead th {\n",
       "        text-align: right;\n",
       "    }\n",
       "</style>\n",
       "<table border=\"1\" class=\"dataframe\">\n",
       "  <thead>\n",
       "    <tr style=\"text-align: right;\">\n",
       "      <th></th>\n",
       "      <th>keyword</th>\n",
       "      <th>date</th>\n",
       "      <th>media</th>\n",
       "      <th>title</th>\n",
       "      <th>summary</th>\n",
       "    </tr>\n",
       "  </thead>\n",
       "  <tbody>\n",
       "    <tr>\n",
       "      <th>0</th>\n",
       "      <td>compliance</td>\n",
       "      <td>Jul 21, 2020</td>\n",
       "      <td>ESPN</td>\n",
       "      <td>Former Goldman Sachs exec tabbed as USOPC comp...</td>\n",
       "      <td>COLORADO SPRINGS, Colo. -- The U.S. Olympic an...</td>\n",
       "    </tr>\n",
       "    <tr>\n",
       "      <th>1</th>\n",
       "      <td>compliance</td>\n",
       "      <td>Aug 20, 2020</td>\n",
       "      <td></td>\n",
       "      <td>OPEC+ data reveals extent of oil quota non-com...</td>\n",
       "      <td>The OPEC+ alliance in May implemented the larg...</td>\n",
       "    </tr>\n",
       "    <tr>\n",
       "      <th>2</th>\n",
       "      <td>compliance</td>\n",
       "      <td>Aug 17, 2020</td>\n",
       "      <td>FOX5 Las Vegas</td>\n",
       "      <td>Nevada OSHA issues 11 workplace citations, 9 f...</td>\n",
       "      <td>Close Get email notifications on {{subject}} d...</td>\n",
       "    </tr>\n",
       "    <tr>\n",
       "      <th>3</th>\n",
       "      <td>compliance</td>\n",
       "      <td>Jun 3, 2020</td>\n",
       "      <td>Reuters</td>\n",
       "      <td>Australia's Westpac reveals findings from comp...</td>\n",
       "      <td>FILE PHOTO: A pedestrian looks at his phone as...</td>\n",
       "    </tr>\n",
       "    <tr>\n",
       "      <th>4</th>\n",
       "      <td>compliance</td>\n",
       "      <td>1 month ago</td>\n",
       "      <td>Reuters</td>\n",
       "      <td>Hong Kong financial firms step up compliance h...</td>\n",
       "      <td>HONG KONG (Reuters) - Financial firms in Hong ...</td>\n",
       "    </tr>\n",
       "  </tbody>\n",
       "</table>\n",
       "</div>"
      ],
      "text/plain": [
       "      keyword          date           media  \\\n",
       "0  compliance  Jul 21, 2020            ESPN   \n",
       "1  compliance  Aug 20, 2020                   \n",
       "2  compliance  Aug 17, 2020  FOX5 Las Vegas   \n",
       "3  compliance   Jun 3, 2020         Reuters   \n",
       "4  compliance   1 month ago         Reuters   \n",
       "\n",
       "                                               title  \\\n",
       "0  Former Goldman Sachs exec tabbed as USOPC comp...   \n",
       "1  OPEC+ data reveals extent of oil quota non-com...   \n",
       "2  Nevada OSHA issues 11 workplace citations, 9 f...   \n",
       "3  Australia's Westpac reveals findings from comp...   \n",
       "4  Hong Kong financial firms step up compliance h...   \n",
       "\n",
       "                                             summary  \n",
       "0  COLORADO SPRINGS, Colo. -- The U.S. Olympic an...  \n",
       "1  The OPEC+ alliance in May implemented the larg...  \n",
       "2  Close Get email notifications on {{subject}} d...  \n",
       "3  FILE PHOTO: A pedestrian looks at his phone as...  \n",
       "4  HONG KONG (Reuters) - Financial firms in Hong ...  "
      ]
     },
     "execution_count": 239,
     "metadata": {},
     "output_type": "execute_result"
    }
   ],
   "source": [
    "# Download titles and summaries for all news\n",
    "\n",
    "all_news = []\n",
    "\n",
    "for i, row in results_df.iterrows():\n",
    "    kw_id = math.floor(i/60)\n",
    "\n",
    "    article = Article(row['link'])\n",
    "    \n",
    "    try:\n",
    "        article.download()\n",
    "        article.parse()\n",
    "        article.nlp()\n",
    "\n",
    "        if article.title != 'StackPath':\n",
    "            news_list = [topics[kw_id], row['date'], row['media'], \n",
    "                         article.title, article.summary]\n",
    "            all_news.append(news_list)\n",
    "\n",
    "    # if an article cannot be downloaded without authorization, then skip it\n",
    "    except: continue \n",
    "\n",
    "columns = ['keyword', 'date', 'media', 'title', 'summary']\n",
    "df = pd.DataFrame(all_news, columns=columns)\n",
    "df.head()"
   ]
  },
  {
   "cell_type": "code",
   "execution_count": 240,
   "metadata": {},
   "outputs": [
    {
     "data": {
      "text/plain": [
       "surveillance        60\n",
       "market structure    60\n",
       "compliance          59\n",
       "cybersecurity       58\n",
       "short sales         58\n",
       "funds               57\n",
       "Regulation          56\n",
       "Securities          26\n",
       "Name: keyword, dtype: int64"
      ]
     },
     "execution_count": 240,
     "metadata": {},
     "output_type": "execute_result"
    }
   ],
   "source": [
    "df['keyword'].value_counts()"
   ]
  },
  {
   "cell_type": "markdown",
   "metadata": {},
   "source": [
    "## 2. Text Preprocressing"
   ]
  },
  {
   "cell_type": "markdown",
   "metadata": {},
   "source": [
    "Reference: https://towardsdatascience.com/multi-class-text-classification-with-sklearn-and-nltk-in-python-a-software-engineering-use-case-779d4a28ba5"
   ]
  },
  {
   "cell_type": "code",
   "execution_count": 241,
   "metadata": {},
   "outputs": [
    {
     "data": {
      "text/plain": [
       "0    former goldman sach exec tab usopc complianc o...\n",
       "1    opec data reveal extent oil quota non complian...\n",
       "2    nevada osha issu workplac citat covid non comp...\n",
       "3    australia westpac reveal find complianc review...\n",
       "4    hong kong financi firm step complianc hire ami...\n",
       "Name: cleaned, dtype: object"
      ]
     },
     "execution_count": 241,
     "metadata": {},
     "output_type": "execute_result"
    }
   ],
   "source": [
    "# Preprocessing\n",
    "stemmer = PorterStemmer()\n",
    "words = stopwords.words(\"english\")\n",
    "processing = lambda x: \" \".join([stemmer.stem(i) for i in re.sub(\"[^a-zA-Z]\", \" \", x).split() if i not in words]).lower()\n",
    "\n",
    "df['cleaned'] = (df['title'] + ' ' + df['summary']).apply(processing)\n",
    "df['cleaned'].head()"
   ]
  },
  {
   "cell_type": "markdown",
   "metadata": {},
   "source": [
    "## 3. Training Model (Use Random Forest as an Example)"
   ]
  },
  {
   "cell_type": "markdown",
   "metadata": {},
   "source": [
    "Reference:\n",
    "https://towardsdatascience.com/multi-class-text-classification-with-sklearn-and-nltk-in-python-a-software-engineering-use-case-779d4a28ba5"
   ]
  },
  {
   "cell_type": "code",
   "execution_count": 242,
   "metadata": {},
   "outputs": [],
   "source": [
    "X = df['cleaned']\n",
    "Y = df['keyword']\n",
    "X_train, X_test, y_train, y_test = train_test_split(X, Y, test_size=0.25)"
   ]
  },
  {
   "cell_type": "code",
   "execution_count": 243,
   "metadata": {},
   "outputs": [],
   "source": [
    "vectorizer = TfidfVectorizer(min_df= 3, stop_words=\"english\", \n",
    "                             sublinear_tf=True, norm='l2', \n",
    "                             ngram_range=(1, 2))\n",
    "\n",
    "pipeline = Pipeline([('vect', vectorizer), # Transform a document into a vector\n",
    "                     ('chi',  SelectKBest(chi2, k=300)), # Use chi-test to select 300 features\n",
    "                     ('clf', RandomForestClassifier())]) # Use Random Forest to identify topic \n",
    "\n",
    "model = pipeline.fit(X_train, y_train)\n",
    "\n",
    "# Save the model to a pickle file\n",
    "with open('RandomForest.pickle', 'wb') as f:\n",
    "    pickle.dump(model, f)"
   ]
  },
  {
   "cell_type": "markdown",
   "metadata": {},
   "source": [
    "## 4. Model Evaluation"
   ]
  },
  {
   "cell_type": "markdown",
   "metadata": {},
   "source": [
    "### Classification Report"
   ]
  },
  {
   "cell_type": "code",
   "execution_count": 244,
   "metadata": {},
   "outputs": [
    {
     "name": "stdout",
     "output_type": "stream",
     "text": [
      "                  precision    recall  f1-score   support\n",
      "\n",
      "      Regulation       1.00      0.94      0.97        17\n",
      "      Securities       0.33      0.20      0.25         5\n",
      "      compliance       0.93      0.82      0.87        17\n",
      "   cybersecurity       0.73      0.67      0.70        12\n",
      "           funds       0.53      0.60      0.56        15\n",
      "market structure       0.40      0.43      0.41        14\n",
      "     short sales       0.69      0.73      0.71        15\n",
      "    surveillance       0.44      0.50      0.47        14\n",
      "\n",
      "        accuracy                           0.66       109\n",
      "       macro avg       0.63      0.61      0.62       109\n",
      "    weighted avg       0.67      0.66      0.66       109\n",
      "\n"
     ]
    }
   ],
   "source": [
    "ytest = np.array(y_test)\n",
    "print(classification_report(ytest, model.predict(X_test)))"
   ]
  },
  {
   "cell_type": "markdown",
   "metadata": {},
   "source": [
    "## Feature Importance"
   ]
  },
  {
   "cell_type": "markdown",
   "metadata": {},
   "source": [
    "The link about chi-test feature selection:\n",
    "https://towardsdatascience.com/chi-square-test-for-feature-selection-in-machine-learning-206b1f0b8223"
   ]
  },
  {
   "cell_type": "code",
   "execution_count": 248,
   "metadata": {},
   "outputs": [
    {
     "name": "stdout",
     "output_type": "stream",
     "text": [
      "Select 300 features from 1822 features by chi-test\n"
     ]
    }
   ],
   "source": [
    "all_features = np.array(model.steps[0][1].get_feature_names())\n",
    "mask = model.steps[1][1].get_support()\n",
    "new_features = all_features[mask]\n",
    "print('Select {1} features from {0} features by chi-test'.format(len(all_features), len(new_features)))"
   ]
  },
  {
   "cell_type": "code",
   "execution_count": 249,
   "metadata": {},
   "outputs": [
    {
     "data": {
      "text/plain": [
       "<AxesSubplot:>"
      ]
     },
     "execution_count": 249,
     "metadata": {},
     "output_type": "execute_result"
    },
    {
     "data": {
      "image/png": "[encoded data removed]",
      "text/plain": [
       "<Figure size 576x720 with 1 Axes>"
      ]
     },
     "metadata": {
      "needs_background": "light"
     },
     "output_type": "display_data"
    }
   ],
   "source": [
    "feature_importance = pd.DataFrame(model.steps[2][1].feature_importances_, index=new_features, columns=['feature_importance'])\n",
    "feature_importance.sort_values('feature_importance').tail(30).plot.barh(figsize=[8,10])"
   ]
  },
  {
   "cell_type": "markdown",
   "metadata": {},
   "source": [
    "## 5. Apply the model to other unlabeld sources"
   ]
  },
  {
   "cell_type": "code",
   "execution_count": 250,
   "metadata": {},
   "outputs": [],
   "source": [
    "forbes = \"SEC Threatens Fines, Suspensions For Covid-19 Protocol Violations. Southeastern Conference Commissioner Greg Sankey sent a memo to the conference's football coaches and athletic directors last Wednesday, following the opening weekend of the SEC season, reminding coaches and players to wear masks on the sidelines, and followed up with another memo this week warning of possible fines and suspensions if protocols are violated.\"\n",
    "nlr =\"CCO Barred for Altering Reports to Mislead SEC Staff. Recently, the U.S. Securities and Exchange Commission (the “SEC”) charged a dually registered firm and its Chief Compliance Officer (“CCO”) with multiple violations of the Investment Advisers Act of 1940 (“Advisers Act”). The charges included allegations against the CCO that she altered documents in an attempt to mislead SEC examination staff and failures to comply with enhanced policies and procedures adopted as a result of a prior examination by FINRA. The SEC charged the firm with willfully violating Section 206(4) of the Advisers Act and Rule 206(4)-7 thereunder, which require, in part, that registered investment advisors “[a]dopt and implement written policies and procedures reasonably designed to prevent violation” of the Advisers Act and its rules. The CCO was charged with willfully aiding and abetting the firm’s violations. The firm and the CCO were fined $1.7 million and $45,000, respectively, and the CCO was barred from the industry.\"\n",
    "fcpa = \"Brazil holding company agrees to pay $285 million to settle FCPA violations. São Paulo-based conglomerate J&F Investimentos pleaded guilty Wednesday to conspiracy to violate the anti-bribery provisions of the Foreign Corrupt Practices Act for a scheme to bribe officials in Brazil.\"\n",
    "\n",
    "new_data = pd.DataFrame([forbes, nlr, fcpa], columns=['text'])\n",
    "new_data['cleaned'] = new_data['text'].apply(lambda x: \" \".join([stemmer.stem(i) for i in re.sub(\"[^a-zA-Z]\", \" \", x).split() if i not in words]).lower())"
   ]
  },
  {
   "cell_type": "code",
   "execution_count": 251,
   "metadata": {},
   "outputs": [
    {
     "name": "stdout",
     "output_type": "stream",
     "text": [
      "['funds' 'compliance' 'funds']\n"
     ]
    }
   ],
   "source": [
    "# Predict topics for three articles\n",
    "new_X = new_data['cleaned']\n",
    "print(model.predict(new_X))"
   ]
  },
  {
   "cell_type": "code",
   "execution_count": 252,
   "metadata": {},
   "outputs": [
    {
     "data": {
      "text/html": [
       "<div>\n",
       "<style scoped>\n",
       "    .dataframe tbody tr th:only-of-type {\n",
       "        vertical-align: middle;\n",
       "    }\n",
       "\n",
       "    .dataframe tbody tr th {\n",
       "        vertical-align: top;\n",
       "    }\n",
       "\n",
       "    .dataframe thead th {\n",
       "        text-align: right;\n",
       "    }\n",
       "</style>\n",
       "<table border=\"1\" class=\"dataframe\">\n",
       "  <thead>\n",
       "    <tr style=\"text-align: right;\">\n",
       "      <th></th>\n",
       "      <th>Regulation</th>\n",
       "      <th>Securities</th>\n",
       "      <th>compliance</th>\n",
       "      <th>cybersecurity</th>\n",
       "      <th>funds</th>\n",
       "      <th>market structure</th>\n",
       "      <th>short sales</th>\n",
       "      <th>surveillance</th>\n",
       "    </tr>\n",
       "  </thead>\n",
       "  <tbody>\n",
       "    <tr>\n",
       "      <th>forbes</th>\n",
       "      <td>0.00</td>\n",
       "      <td>0.00</td>\n",
       "      <td>0.08</td>\n",
       "      <td>0.02</td>\n",
       "      <td>0.420167</td>\n",
       "      <td>0.02</td>\n",
       "      <td>0.04</td>\n",
       "      <td>0.419833</td>\n",
       "    </tr>\n",
       "    <tr>\n",
       "      <th>nlr</th>\n",
       "      <td>0.00</td>\n",
       "      <td>0.13</td>\n",
       "      <td>0.50</td>\n",
       "      <td>0.01</td>\n",
       "      <td>0.240000</td>\n",
       "      <td>0.05</td>\n",
       "      <td>0.03</td>\n",
       "      <td>0.040000</td>\n",
       "    </tr>\n",
       "    <tr>\n",
       "      <th>fcpa</th>\n",
       "      <td>0.02</td>\n",
       "      <td>0.01</td>\n",
       "      <td>0.02</td>\n",
       "      <td>0.05</td>\n",
       "      <td>0.383333</td>\n",
       "      <td>0.03</td>\n",
       "      <td>0.15</td>\n",
       "      <td>0.336667</td>\n",
       "    </tr>\n",
       "  </tbody>\n",
       "</table>\n",
       "</div>"
      ],
      "text/plain": [
       "        Regulation  Securities  compliance  cybersecurity     funds  \\\n",
       "forbes        0.00        0.00        0.08           0.02  0.420167   \n",
       "nlr           0.00        0.13        0.50           0.01  0.240000   \n",
       "fcpa          0.02        0.01        0.02           0.05  0.383333   \n",
       "\n",
       "        market structure  short sales  surveillance  \n",
       "forbes              0.02         0.04      0.419833  \n",
       "nlr                 0.05         0.03      0.040000  \n",
       "fcpa                0.03         0.15      0.336667  "
      ]
     },
     "execution_count": 252,
     "metadata": {},
     "output_type": "execute_result"
    }
   ],
   "source": [
    "# Return probabilities for differnt topics\n",
    "prob_for_different_topics = pd.DataFrame(model.predict_proba(new_X), columns=model.steps[2][1].classes_, index=['forbes', 'nlr', 'fcpa'])\n",
    "prob_for_different_topics"
   ]
  },
  {
   "cell_type": "markdown",
   "metadata": {},
   "source": [
    "#### SEC articles"
   ]
  },
  {
   "cell_type": "code",
   "execution_count": 253,
   "metadata": {},
   "outputs": [
    {
     "data": {
      "text/html": [
       "<div>\n",
       "<style scoped>\n",
       "    .dataframe tbody tr th:only-of-type {\n",
       "        vertical-align: middle;\n",
       "    }\n",
       "\n",
       "    .dataframe tbody tr th {\n",
       "        vertical-align: top;\n",
       "    }\n",
       "\n",
       "    .dataframe thead th {\n",
       "        text-align: right;\n",
       "    }\n",
       "</style>\n",
       "<table border=\"1\" class=\"dataframe\">\n",
       "  <thead>\n",
       "    <tr style=\"text-align: right;\">\n",
       "      <th></th>\n",
       "      <th>title</th>\n",
       "      <th>category_pred</th>\n",
       "    </tr>\n",
       "  </thead>\n",
       "  <tbody>\n",
       "    <tr>\n",
       "      <th>0</th>\n",
       "      <td>SEC and CFTC to Hold a Joint Open Meeting on O...</td>\n",
       "      <td>funds</td>\n",
       "    </tr>\n",
       "    <tr>\n",
       "      <th>1</th>\n",
       "      <td>SEC Charges Andeavor for Inadequate Controls A...</td>\n",
       "      <td>funds</td>\n",
       "    </tr>\n",
       "    <tr>\n",
       "      <th>2</th>\n",
       "      <td>Board Member James G. Kaiser to Retire From th...</td>\n",
       "      <td>funds</td>\n",
       "    </tr>\n",
       "    <tr>\n",
       "      <th>3</th>\n",
       "      <td>SEC Appoints PCAOB Chief Auditor Megan Zietsma...</td>\n",
       "      <td>funds</td>\n",
       "    </tr>\n",
       "    <tr>\n",
       "      <th>4</th>\n",
       "      <td>SEC Awards $800,000 to Whistleblower</td>\n",
       "      <td>funds</td>\n",
       "    </tr>\n",
       "    <tr>\n",
       "      <th>5</th>\n",
       "      <td>SEC Charges Brazilian Meat Producers With FCPA...</td>\n",
       "      <td>funds</td>\n",
       "    </tr>\n",
       "    <tr>\n",
       "      <th>6</th>\n",
       "      <td>Tamara Brightwell Named Deputy Director of Div...</td>\n",
       "      <td>funds</td>\n",
       "    </tr>\n",
       "    <tr>\n",
       "      <th>7</th>\n",
       "      <td>Jessica Kane Named Director of Division of Cor...</td>\n",
       "      <td>funds</td>\n",
       "    </tr>\n",
       "    <tr>\n",
       "      <th>8</th>\n",
       "      <td>SEC Charges Seismic Data Company, Former Execu...</td>\n",
       "      <td>funds</td>\n",
       "    </tr>\n",
       "    <tr>\n",
       "      <th>9</th>\n",
       "      <td>SEC Names Nichola L. Timmons Chief of New Offi...</td>\n",
       "      <td>funds</td>\n",
       "    </tr>\n",
       "    <tr>\n",
       "      <th>10</th>\n",
       "      <td>SEC to Hold National Compliance Outreach Semin...</td>\n",
       "      <td>compliance</td>\n",
       "    </tr>\n",
       "    <tr>\n",
       "      <th>11</th>\n",
       "      <td>SEC Proposes Conditional Exemption for Finders...</td>\n",
       "      <td>funds</td>\n",
       "    </tr>\n",
       "    <tr>\n",
       "      <th>12</th>\n",
       "      <td>SEC Updates Regulatory Framework for Fund of F...</td>\n",
       "      <td>short sales</td>\n",
       "    </tr>\n",
       "    <tr>\n",
       "      <th>13</th>\n",
       "      <td>SEC Charges John McAfee With Fraudulently Tout...</td>\n",
       "      <td>funds</td>\n",
       "    </tr>\n",
       "    <tr>\n",
       "      <th>14</th>\n",
       "      <td>SEC Staff Releases Report on U.S. Credit Marke...</td>\n",
       "      <td>surveillance</td>\n",
       "    </tr>\n",
       "    <tr>\n",
       "      <th>15</th>\n",
       "      <td>SEC’s Messages for World Investor Week 2020</td>\n",
       "      <td>Securities</td>\n",
       "    </tr>\n",
       "    <tr>\n",
       "      <th>16</th>\n",
       "      <td>SEC Issues Agenda for Oct. 5 Meeting of the Fi...</td>\n",
       "      <td>surveillance</td>\n",
       "    </tr>\n",
       "    <tr>\n",
       "      <th>17</th>\n",
       "      <td>SEC Charges Hospitality Company for Failing to...</td>\n",
       "      <td>surveillance</td>\n",
       "    </tr>\n",
       "    <tr>\n",
       "      <th>18</th>\n",
       "      <td>SEC Charges HP Inc. With Disclosure Violations...</td>\n",
       "      <td>Regulation</td>\n",
       "    </tr>\n",
       "    <tr>\n",
       "      <th>19</th>\n",
       "      <td>SEC Whistleblower Program Ends Record-Setting ...</td>\n",
       "      <td>funds</td>\n",
       "    </tr>\n",
       "    <tr>\n",
       "      <th>20</th>\n",
       "      <td>SEC Awards Almost $30 Million to Two Insider W...</td>\n",
       "      <td>funds</td>\n",
       "    </tr>\n",
       "    <tr>\n",
       "      <th>21</th>\n",
       "      <td>Morgan Stanley Agrees to Pay $5 Million for Re...</td>\n",
       "      <td>Regulation</td>\n",
       "    </tr>\n",
       "    <tr>\n",
       "      <th>22</th>\n",
       "      <td>SEC Charges Manitex International and Three Fo...</td>\n",
       "      <td>funds</td>\n",
       "    </tr>\n",
       "    <tr>\n",
       "      <th>23</th>\n",
       "      <td>SEC Charges Former Real Estate Executive With ...</td>\n",
       "      <td>funds</td>\n",
       "    </tr>\n",
       "    <tr>\n",
       "      <th>24</th>\n",
       "      <td>SEC Charges Ratings Agency With Internal Contr...</td>\n",
       "      <td>funds</td>\n",
       "    </tr>\n",
       "  </tbody>\n",
       "</table>\n",
       "</div>"
      ],
      "text/plain": [
       "                                                title category_pred\n",
       "0   SEC and CFTC to Hold a Joint Open Meeting on O...         funds\n",
       "1   SEC Charges Andeavor for Inadequate Controls A...         funds\n",
       "2   Board Member James G. Kaiser to Retire From th...         funds\n",
       "3   SEC Appoints PCAOB Chief Auditor Megan Zietsma...         funds\n",
       "4                SEC Awards $800,000 to Whistleblower         funds\n",
       "5   SEC Charges Brazilian Meat Producers With FCPA...         funds\n",
       "6   Tamara Brightwell Named Deputy Director of Div...         funds\n",
       "7   Jessica Kane Named Director of Division of Cor...         funds\n",
       "8   SEC Charges Seismic Data Company, Former Execu...         funds\n",
       "9   SEC Names Nichola L. Timmons Chief of New Offi...         funds\n",
       "10  SEC to Hold National Compliance Outreach Semin...    compliance\n",
       "11  SEC Proposes Conditional Exemption for Finders...         funds\n",
       "12  SEC Updates Regulatory Framework for Fund of F...   short sales\n",
       "13  SEC Charges John McAfee With Fraudulently Tout...         funds\n",
       "14  SEC Staff Releases Report on U.S. Credit Marke...  surveillance\n",
       "15        SEC’s Messages for World Investor Week 2020    Securities\n",
       "16  SEC Issues Agenda for Oct. 5 Meeting of the Fi...  surveillance\n",
       "17  SEC Charges Hospitality Company for Failing to...  surveillance\n",
       "18  SEC Charges HP Inc. With Disclosure Violations...    Regulation\n",
       "19  SEC Whistleblower Program Ends Record-Setting ...         funds\n",
       "20  SEC Awards Almost $30 Million to Two Insider W...         funds\n",
       "21  Morgan Stanley Agrees to Pay $5 Million for Re...    Regulation\n",
       "22  SEC Charges Manitex International and Three Fo...         funds\n",
       "23  SEC Charges Former Real Estate Executive With ...         funds\n",
       "24  SEC Charges Ratings Agency With Internal Contr...         funds"
      ]
     },
     "execution_count": 253,
     "metadata": {},
     "output_type": "execute_result"
    }
   ],
   "source": [
    "sec = pd.read_csv('SEC_articles.csv')\n",
    "sec['cleaned'] = (sec['title'] + ' ' + sec['abstract']).apply(processing)\n",
    "sec['category_pred'] = model.predict(sec['cleaned'])\n",
    "sec[['title', 'category_pred']]"
   ]
  }
 ],
 "metadata": {
  "kernelspec": {
   "display_name": "Python 3",
   "language": "python",
   "name": "python3"
  },
  "language_info": {
   "codemirror_mode": {
    "name": "ipython",
    "version": 3
   },
   "file_extension": ".py",
   "mimetype": "text/x-python",
   "name": "python",
   "nbconvert_exporter": "python",
   "pygments_lexer": "ipython3",
   "version": "3.8.3"
  }
 },
 "nbformat": 4,
 "nbformat_minor": 4
}
