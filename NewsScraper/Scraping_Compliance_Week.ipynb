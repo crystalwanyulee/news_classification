{
 "cells": [
  {
   "cell_type": "code",
   "execution_count": 1,
   "metadata": {},
   "outputs": [],
   "source": [
    "import pandas as pd\n",
    "import numpy as np\n",
    "from bs4 import BeautifulSoup\n",
    "from collections import defaultdict\n",
    "from urllib.request import Request, urlopen\n",
    "from newspaper import Article"
   ]
  },
  {
   "cell_type": "markdown",
   "metadata": {},
   "source": [
    "## Define Scrapers"
   ]
  },
  {
   "cell_type": "code",
   "execution_count": 2,
   "metadata": {},
   "outputs": [],
   "source": [
    "# Use newspaper to download title and summary\n",
    "def news_download(link):\n",
    "    article = Article(link)\n",
    "    \n",
    "    try:\n",
    "        article.download()\n",
    "        article.parse()\n",
    "        article.nlp()\n",
    "        \n",
    "        title, summary = article.title, article.summary\n",
    "\n",
    "    # if an article cannot be downloaded without authorization, then skip it\n",
    "    except: \n",
    "        \n",
    "        title, summary = '', ''\n",
    "        \n",
    "    return title, summary"
   ]
  },
  {
   "cell_type": "code",
   "execution_count": 3,
   "metadata": {},
   "outputs": [],
   "source": [
    "def scrape_news(url, topic):\n",
    "    req = Request(url, headers={'User-Agent': 'Mozilla/5.0'})\n",
    "    web_byte = urlopen(req).read()\n",
    "    page = web_byte.decode('utf-8')\n",
    "    soup = BeautifulSoup(page, 'html.parser')\n",
    "    results = soup.find_all(class_='subSleeve')\n",
    "\n",
    "    news_dict = defaultdict(list)\n",
    "    \n",
    "    for line in results:\n",
    "        link = line.find('a')['href']\n",
    "        title = line.find('a').get_text()\n",
    "        date = line.find(class_='date').get_text()\n",
    "\n",
    "        news_dict['link'].append(link)\n",
    "        news_dict['title'].append(title)\n",
    "        news_dict['date'].append(date)\n",
    "\n",
    "        try:\n",
    "            _, summary = news_download(link)        \n",
    "        except:\n",
    "            summary = ''\n",
    "\n",
    "        news_dict['summary'].append(summary)\n",
    "        \n",
    "    df = pd.DataFrame(news_dict)\n",
    "    df['Topic'] = topic\n",
    "    \n",
    "    return df"
   ]
  },
  {
   "cell_type": "markdown",
   "metadata": {},
   "source": [
    "## Define a Dictionary for Topics and Links"
   ]
  },
  {
   "cell_type": "code",
   "execution_count": 14,
   "metadata": {},
   "outputs": [],
   "source": [
    "cw_dict = {\n",
    "    'Regulatory Enforcement': 'https://www.complianceweek.com/topics/regulatory-enforcement',\n",
    "    'Regulatory Policy': 'https://www.complianceweek.com/topics/regulatory-policy',\n",
    "    'Accounting & Auditing': 'https://www.complianceweek.com/topics/accounting-and-auditing',\n",
    "    'Risk Management': 'https://www.complianceweek.com/topics/risk-management',\n",
    "    'Anti-Corruption': 'https://www.complianceweek.com/topics/anti-corruption',\n",
    "    'Data Privacy': 'https://www.complianceweek.com/topics/data-privacy',\n",
    "    'Cybersecurity': 'https://www.complianceweek.com/topics/cyber-security',\n",
    "    'Technology': 'https://www.complianceweek.com/topics/technology',\n",
    "    'Boards & Shareholders': 'https://www.complianceweek.com/topics/boards-and-shareholders',\n",
    "    'Internal Controls': 'https://www.complianceweek.com/topics/internal-controls',\n",
    "    'Investigations': 'https://www.complianceweek.com/topics/investigations',\n",
    "    'Financial Services': 'https://www.complianceweek.com/topics/financial-services'\n",
    "}"
   ]
  },
  {
   "cell_type": "markdown",
   "metadata": {},
   "source": [
    "# Run the Scrapper"
   ]
  },
  {
   "cell_type": "code",
   "execution_count": 15,
   "metadata": {},
   "outputs": [],
   "source": [
    "# Scrape news\n",
    "news_df = pd.DataFrame([])\n",
    "for topic in cw_dict:\n",
    "    temp_df = scrape_news(cw_dict[topic], topic)\n",
    "    news_df = pd.concat([news_df, temp_df])"
   ]
  },
  {
   "cell_type": "code",
   "execution_count": 20,
   "metadata": {},
   "outputs": [
    {
     "name": "stdout",
     "output_type": "stream",
     "text": [
      "<class 'pandas.core.frame.DataFrame'>\n",
      "Int64Index: 585 entries, 0 to 49\n",
      "Data columns (total 5 columns):\n",
      " #   Column   Non-Null Count  Dtype \n",
      "---  ------   --------------  ----- \n",
      " 0   link     585 non-null    object\n",
      " 1   title    585 non-null    object\n",
      " 2   date     585 non-null    object\n",
      " 3   summary  585 non-null    object\n",
      " 4   Topic    585 non-null    object\n",
      "dtypes: object(5)\n",
      "memory usage: 27.4+ KB\n"
     ]
    }
   ],
   "source": [
    "news_df.info()"
   ]
  },
  {
   "cell_type": "markdown",
   "metadata": {},
   "source": [
    "# Unify format"
   ]
  },
  {
   "cell_type": "code",
   "execution_count": 39,
   "metadata": {},
   "outputs": [],
   "source": [
    "news_df['Website']='Compliance Week'\n",
    "news_df['Paragrah'] = np.nan\n",
    "news_df['Image URL'] = np.nan\n",
    "news_df = news_df[['Website', 'title', 'link', 'Paragrah', 'Image URL', 'date', 'summary', 'Topic']]\n",
    "news_df.columns = list(df.columns[:-1]) + ['Topic']\n",
    "#news_df.to_csv('compliance_week_1112.csv', index=False)"
   ]
  }
 ],
 "metadata": {
  "kernelspec": {
   "display_name": "Python 3",
   "language": "python",
   "name": "python3"
  },
  "language_info": {
   "codemirror_mode": {
    "name": "ipython",
    "version": 3
   },
   "file_extension": ".py",
   "mimetype": "text/x-python",
   "name": "python",
   "nbconvert_exporter": "python",
   "pygments_lexer": "ipython3",
   "version": "3.8.5"
  }
 },
 "nbformat": 4,
 "nbformat_minor": 4
}
